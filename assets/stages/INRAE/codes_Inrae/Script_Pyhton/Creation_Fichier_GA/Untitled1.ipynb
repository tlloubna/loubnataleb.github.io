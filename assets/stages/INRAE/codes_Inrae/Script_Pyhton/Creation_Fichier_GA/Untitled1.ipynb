{
 "cells": [
  {
   "cell_type": "code",
   "execution_count": 7,
   "id": "702eac0c-e848-4b7c-8e0d-99f87eac7cab",
   "metadata": {},
   "outputs": [],
   "source": [
    "import random\n",
    "\n",
    "def generate_inventory(num_patches, num_entries_per_patch, filename):\n",
    "    with open(filename, 'w', encoding='utf-8') as file:\n",
    "        file.write(\"#Forceps inventory\\n\\n\")\n",
    "        file.write(f\"inventoryPatchN={num_patches}\\n\")\n",
    "        file.write(f\"inventoryPatchArea=1000\\n\\n\")\n",
    "        file.write(\"#patchId\\ttreeId\\tspeciesId\\tage\\tdbh\\tcrownA1\\tdbhInc\\tslowGrowthIndex\\n\")\n",
    "        \n",
    "        treeId = 1\n",
    "        species_ids = [27, 21, 5]\n",
    "\n",
    "        for patchId in range(1, num_patches + 1):\n",
    "            for _ in range(num_entries_per_patch):\n",
    "                speciesId = random.choice(species_ids)\n",
    "                age = random.randint(1, 100)\n",
    "                dbh = round(random.uniform(5.0, 50.0), 2)\n",
    "                crownA1 = 0.1\n",
    "                dbhInc = round(random.uniform(0.01, 0.1), 2)\n",
    "                slowGrowthIndex = random.randint(0, 1)\n",
    "                \n",
    "                file.write(f\"{patchId}\\t{treeId}\\t{speciesId}\\t{age}\\t{dbh}\\t{crownA1}\\t{dbhInc}\\t{slowGrowthIndex}\\n\")\n",
    "                treeId += 1\n",
    "\n",
    "# Exemple d'utilisation pour générer un fichier avec 30 patchs et 100 entrées par patch\n",
    "generate_inventory(30, 100, 'inventaire_3sp_30patches.inv')\n",
    "\n",
    "         "
   ]
  },
  {
   "cell_type": "code",
   "execution_count": null,
   "id": "14882f46-1554-452c-bf9e-37791c620fc7",
   "metadata": {},
   "outputs": [],
   "source": []
  }
 ],
 "metadata": {
  "kernelspec": {
   "display_name": "Python 3 (ipykernel)",
   "language": "python",
   "name": "python3"
  },
  "language_info": {
   "codemirror_mode": {
    "name": "ipython",
    "version": 3
   },
   "file_extension": ".py",
   "mimetype": "text/x-python",
   "name": "python",
   "nbconvert_exporter": "python",
   "pygments_lexer": "ipython3",
   "version": "3.12.4"
  }
 },
 "nbformat": 4,
 "nbformat_minor": 5
}
